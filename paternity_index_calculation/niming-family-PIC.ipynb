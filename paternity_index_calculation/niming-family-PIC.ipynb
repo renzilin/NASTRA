{
 "cells": [
  {
   "cell_type": "code",
   "execution_count": 1,
   "metadata": {},
   "outputs": [],
   "source": [
    "import  pandas as pd\n",
    "from paternity_index import Paternity_Index_Cal"
   ]
  },
  {
   "cell_type": "code",
   "execution_count": 2,
   "metadata": {},
   "outputs": [],
   "source": [
    "PIC = Paternity_Index_Cal('CHN_STR_allele_freqs.csv')"
   ]
  },
  {
   "cell_type": "code",
   "execution_count": 24,
   "metadata": {},
   "outputs": [],
   "source": [
    "dat = pd.read_csv('./niming-family/niming_family_1h.csv')\n",
    "dat = dat[dat.locus != 'D22S1045']"
   ]
  },
  {
   "cell_type": "code",
   "execution_count": 25,
   "metadata": {},
   "outputs": [],
   "source": [
    "def row_genotype(x, child_name, pater_name):\n",
    "    child_genotypes = [ float(geno) for geno in x[child_name].split(',') ]\n",
    "    pater_genotypes = [ float(geno) for geno in x[pater_name].split(',') ]\n",
    "    return PIC.single_paternity_cal(child_genotypes, pater_genotypes, x.locus)\n",
    "\n",
    "name_lst = dat.columns[1:]\n",
    "\n",
    "for ind1, obj1 in enumerate(name_lst):\n",
    "    for ind2, obj2 in enumerate(name_lst):\n",
    "        if ind1 <= ind2:\n",
    "            continue\n",
    "        \n",
    "        dat[f'{obj1}-{obj2}'] = dat.apply(lambda x: row_genotype(x, obj1, obj2), axis=1)"
   ]
  },
  {
   "cell_type": "code",
   "execution_count": 26,
   "metadata": {},
   "outputs": [
    {
     "data": {
      "text/html": [
       "<div>\n",
       "<style scoped>\n",
       "    .dataframe tbody tr th:only-of-type {\n",
       "        vertical-align: middle;\n",
       "    }\n",
       "\n",
       "    .dataframe tbody tr th {\n",
       "        vertical-align: top;\n",
       "    }\n",
       "\n",
       "    .dataframe thead th {\n",
       "        text-align: right;\n",
       "    }\n",
       "</style>\n",
       "<table border=\"1\" class=\"dataframe\">\n",
       "  <thead>\n",
       "    <tr style=\"text-align: right;\">\n",
       "      <th></th>\n",
       "      <th>C</th>\n",
       "      <th>F</th>\n",
       "      <th>M</th>\n",
       "      <th>GM</th>\n",
       "      <th>2800M</th>\n",
       "      <th>9948</th>\n",
       "      <th>F-C</th>\n",
       "      <th>M-C</th>\n",
       "      <th>M-F</th>\n",
       "      <th>GM-C</th>\n",
       "      <th>...</th>\n",
       "      <th>GM-M</th>\n",
       "      <th>2800M-C</th>\n",
       "      <th>2800M-F</th>\n",
       "      <th>2800M-M</th>\n",
       "      <th>2800M-GM</th>\n",
       "      <th>9948-C</th>\n",
       "      <th>9948-F</th>\n",
       "      <th>9948-M</th>\n",
       "      <th>9948-GM</th>\n",
       "      <th>9948-2800M</th>\n",
       "    </tr>\n",
       "    <tr>\n",
       "      <th>locus</th>\n",
       "      <th></th>\n",
       "      <th></th>\n",
       "      <th></th>\n",
       "      <th></th>\n",
       "      <th></th>\n",
       "      <th></th>\n",
       "      <th></th>\n",
       "      <th></th>\n",
       "      <th></th>\n",
       "      <th></th>\n",
       "      <th></th>\n",
       "      <th></th>\n",
       "      <th></th>\n",
       "      <th></th>\n",
       "      <th></th>\n",
       "      <th></th>\n",
       "      <th></th>\n",
       "      <th></th>\n",
       "      <th></th>\n",
       "      <th></th>\n",
       "      <th></th>\n",
       "    </tr>\n",
       "  </thead>\n",
       "  <tbody>\n",
       "    <tr>\n",
       "      <th>CSF1PO</th>\n",
       "      <td>13.0,10.0</td>\n",
       "      <td>12.0,10.0</td>\n",
       "      <td>9.0,13.0</td>\n",
       "      <td>9.0,10.0</td>\n",
       "      <td>12.0,12.0</td>\n",
       "      <td>11.0,10.0</td>\n",
       "      <td>1.082720</td>\n",
       "      <td>3.298153</td>\n",
       "      <td>0.000000</td>\n",
       "      <td>1.082720</td>\n",
       "      <td>...</td>\n",
       "      <td>5.219207</td>\n",
       "      <td>0.0</td>\n",
       "      <td>1.304121</td>\n",
       "      <td>0.000000</td>\n",
       "      <td>0.000000</td>\n",
       "      <td>1.08272</td>\n",
       "      <td>1.08272</td>\n",
       "      <td>0.0</td>\n",
       "      <td>1.082720</td>\n",
       "      <td>0.000000</td>\n",
       "    </tr>\n",
       "    <tr>\n",
       "      <th>D10S1248</th>\n",
       "      <td>16.0,14.0</td>\n",
       "      <td>13.0,14.0</td>\n",
       "      <td>16.0,13.0</td>\n",
       "      <td>15.0,16.0</td>\n",
       "      <td>13.0,15.0</td>\n",
       "      <td>12.0,15.0</td>\n",
       "      <td>1.106195</td>\n",
       "      <td>2.783964</td>\n",
       "      <td>0.662603</td>\n",
       "      <td>2.783964</td>\n",
       "      <td>...</td>\n",
       "      <td>2.783964</td>\n",
       "      <td>0.0</td>\n",
       "      <td>0.662603</td>\n",
       "      <td>0.662603</td>\n",
       "      <td>1.178689</td>\n",
       "      <td>0.00000</td>\n",
       "      <td>0.00000</td>\n",
       "      <td>0.0</td>\n",
       "      <td>1.178689</td>\n",
       "      <td>1.178689</td>\n",
       "    </tr>\n",
       "  </tbody>\n",
       "</table>\n",
       "<p>2 rows × 21 columns</p>\n",
       "</div>"
      ],
      "text/plain": [
       "                  C          F          M         GM      2800M       9948  \\\n",
       "locus                                                                        \n",
       "CSF1PO    13.0,10.0  12.0,10.0   9.0,13.0   9.0,10.0  12.0,12.0  11.0,10.0   \n",
       "D10S1248  16.0,14.0  13.0,14.0  16.0,13.0  15.0,16.0  13.0,15.0  12.0,15.0   \n",
       "\n",
       "               F-C       M-C       M-F      GM-C  ...      GM-M  2800M-C  \\\n",
       "locus                                             ...                      \n",
       "CSF1PO    1.082720  3.298153  0.000000  1.082720  ...  5.219207      0.0   \n",
       "D10S1248  1.106195  2.783964  0.662603  2.783964  ...  2.783964      0.0   \n",
       "\n",
       "           2800M-F   2800M-M  2800M-GM   9948-C   9948-F  9948-M   9948-GM  \\\n",
       "locus                                                                        \n",
       "CSF1PO    1.304121  0.000000  0.000000  1.08272  1.08272     0.0  1.082720   \n",
       "D10S1248  0.662603  0.662603  1.178689  0.00000  0.00000     0.0  1.178689   \n",
       "\n",
       "          9948-2800M  \n",
       "locus                 \n",
       "CSF1PO      0.000000  \n",
       "D10S1248    1.178689  \n",
       "\n",
       "[2 rows x 21 columns]"
      ]
     },
     "execution_count": 26,
     "metadata": {},
     "output_type": "execute_result"
    }
   ],
   "source": [
    "dat.set_index('locus', inplace=True)\n",
    "dat.head(2)"
   ]
  },
  {
   "cell_type": "code",
   "execution_count": 27,
   "metadata": {},
   "outputs": [
    {
     "data": {
      "text/plain": [
       "F-C           1.216010e+12\n",
       "M-C           3.497075e+10\n",
       "M-F           0.000000e+00\n",
       "GM-C          0.000000e+00\n",
       "GM-F          0.000000e+00\n",
       "GM-M          1.350206e+12\n",
       "2800M-C       0.000000e+00\n",
       "2800M-F       0.000000e+00\n",
       "2800M-M       0.000000e+00\n",
       "2800M-GM      0.000000e+00\n",
       "9948-C        0.000000e+00\n",
       "9948-F        0.000000e+00\n",
       "9948-M        0.000000e+00\n",
       "9948-GM       0.000000e+00\n",
       "9948-2800M    0.000000e+00\n",
       "dtype: float64"
      ]
     },
     "execution_count": 27,
     "metadata": {},
     "output_type": "execute_result"
    }
   ],
   "source": [
    "dat[dat.columns[6:]].prod(axis=0)"
   ]
  },
  {
   "cell_type": "code",
   "execution_count": 28,
   "metadata": {},
   "outputs": [],
   "source": [
    "# dat['GM-M']"
   ]
  },
  {
   "cell_type": "code",
   "execution_count": null,
   "metadata": {},
   "outputs": [],
   "source": []
  }
 ],
 "metadata": {
  "kernelspec": {
   "display_name": "data",
   "language": "python",
   "name": "data"
  },
  "language_info": {
   "codemirror_mode": {
    "name": "ipython",
    "version": 3
   },
   "file_extension": ".py",
   "mimetype": "text/x-python",
   "name": "python",
   "nbconvert_exporter": "python",
   "pygments_lexer": "ipython3",
   "version": "3.11.5"
  }
 },
 "nbformat": 4,
 "nbformat_minor": 2
}
